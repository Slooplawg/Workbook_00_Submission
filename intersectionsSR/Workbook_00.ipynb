{
 "cells": [
  {
   "cell_type": "markdown",
   "id": "ef44db09-c4f3-425d-9707-0bd7acdd5343",
   "metadata": {},
   "source": [
    "# Workbook 00 - Solving beams with `PyNite`"
   ]
  },
  {
   "cell_type": "code",
   "execution_count": 6,
   "id": "943ef023-348f-4442-9e27-cb05e5c591c8",
   "metadata": {},
   "outputs": [],
   "source": [
    "from PyNite import FEModel3D\n",
    "from PyNite.Visualization import render_model"
   ]
  },
  {
   "cell_type": "markdown",
   "id": "eb02c229-2d99-4b6b-a524-6bfb7d32ad44",
   "metadata": {
    "tags": []
   },
   "source": [
    "# Task 01\n",
    "\n",
    "Create a `FEModel3D` object to analyze the following beam, where the green loads represent dead load and the orange load represents live load:\n",
    "\n",
    "![image.png](attachment:89fe97d6-ef15-48d2-a2f3-ad1c5a8d1abb.png)\n",
    "\n",
    "The beam is to have the following attributes:\n",
    "\n",
    "```\n",
    "E = 23000 MPa\n",
    "Iz = 400e6 MPa\n",
    "```\n",
    "\n",
    "* Use `print()` to print the reactions\n",
    "* Plot the shear diagram\n",
    "* PLot the moment diagram"
   ]
  },
  {
   "cell_type": "markdown",
   "id": "8a40009e-4849-419e-ba09-8352a6f53b21",
   "metadata": {},
   "source": [
    "## Task 01 Response"
   ]
  },
  {
   "cell_type": "code",
   "execution_count": 7,
   "id": "aa8068d2-013a-46a3-a3b3-64555d9930b5",
   "metadata": {
    "tags": []
   },
   "outputs": [
    {
     "data": {
      "text/plain": [
       "'n0'"
      ]
     },
     "execution_count": 7,
     "metadata": {},
     "output_type": "execute_result"
    }
   ],
   "source": [
    "# This is me completing the workbook\n",
    "beam_model_1 = FEModel3D()\n",
    "beam_model_1.add_node(\"n0\", 0, 0, 0)"
   ]
  },
  {
   "cell_type": "markdown",
   "id": "800e5fa3-f1a4-4bc1-b6a3-2a7bfcfe61f5",
   "metadata": {},
   "source": [
    "# Task 02\n",
    "\n",
    "Create a `FEModel3D` object to analyze a beam with the following attributes:\n",
    "* 3.6 m long\n",
    "* 45 MPa concrete, 300x600 dp beam\n",
    "* Fixed support @:\n",
    "    * 0 m  \n",
    "* Loads as follows:\n",
    "    * UDL of self-weight\n",
    "    * UDL of 60 kN/m Live load\n",
    "    * Point load of 175 kN @ 2.2 m Live load\n",
    "    \n",
    "1. Use `print()` to print the reactions\n",
    "2. Plot the shear and moment diagrams\n",
    "3. Plot the deflection\n",
    "\n",
    "Note: You will need to calculate the E and I of the beam. You can use whatever code calculations you like but remember you need to keep your force/distance/stress units consistent across all inputs in order for the results to make sense."
   ]
  },
  {
   "cell_type": "markdown",
   "id": "94d2a2b2-1230-45a4-b17b-a6369970df27",
   "metadata": {},
   "source": [
    "## Task 02 Response"
   ]
  },
  {
   "cell_type": "code",
   "execution_count": null,
   "id": "28f0e05e-9b73-4017-a906-d060faac3180",
   "metadata": {},
   "outputs": [],
   "source": []
  },
  {
   "cell_type": "markdown",
   "id": "43ccd331-ffa6-4631-8896-53fd95db1a21",
   "metadata": {},
   "source": [
    "# Task 03\n",
    "\n",
    "**Option A:** If you are from the US and want to try using US units:\n",
    "\n",
    "Create a `FEModel3D` object to analyze a beam with the following attributes:\n",
    "* 168 inches long\n",
    "* E and Iz are 58e3 ksi and 1200 ${in^4}$, respectively\n",
    "* Vertical supports @:\n",
    "    * 24 inches, 96 inches, 132  inches\n",
    "* Loads as follows:\n",
    "    * Point load: 5 kips, @ 48 inches\n",
    "    * Uniform distributed load: 60 lbs/inch starting @ 12 inches, ending @ 120 inches\n",
    "    \n",
    "    \n",
    "**Option B:** If you are from pretty much anywhere else:\n",
    "\n",
    "Create a `FEModel3D` object to analyze a beam with the following attributes:\n",
    "* 4200 mm long\n",
    "* E and Iz are 200e3 ksi and 854e6 ${mm^4}$, respectively\n",
    "* Vertical supports @:\n",
    "    * 600 mm, 2440 mm, 3350 mm\n",
    "* Loads as follows:\n",
    "    * Point load: 25 kN, @ 1200 inches\n",
    "    * Uniform distributed load: 2.4 kN starting at 300 mm, ending @ 3000 mm\n",
    "    \n",
    "1. Use `print()` to print the reactions\n",
    "2. Plot the shear and moment diagrams\n",
    "3. Plot the deflection"
   ]
  },
  {
   "cell_type": "markdown",
   "id": "45b63840-4ea7-4a24-982c-949cd3a54c21",
   "metadata": {},
   "source": [
    "## Task 03 Response"
   ]
  },
  {
   "cell_type": "code",
   "execution_count": null,
   "id": "9c3a6557-6e14-4fa5-955d-115660236674",
   "metadata": {},
   "outputs": [],
   "source": []
  },
  {
   "cell_type": "markdown",
   "id": "3d70e7fc-4baa-4cf2-b9c6-a2ab5d5687ef",
   "metadata": {},
   "source": [
    "# 🧳 Submit Workbook 00!\n",
    "\n",
    "We will use this procedure for submitting all Workbooks in this course. This one is going to be the \"practice\" submission.\n",
    "\n",
    "[Log in to Eduflow](https://app.eduflow.com/login) and, in your PfSE course, see the **Workbook 00 Submission** instructions."
   ]
  },
  {
   "cell_type": "markdown",
   "id": "1575fe13-1f5a-4142-b53d-69fcc9d1923d",
   "metadata": {},
   "source": []
  },
  {
   "cell_type": "code",
   "execution_count": null,
   "id": "1ca0ffc7-1e24-459e-8ead-47ece419cc77",
   "metadata": {},
   "outputs": [],
   "source": []
  }
 ],
 "metadata": {
  "kernelspec": {
   "display_name": "pfse",
   "language": "python",
   "name": "pfse"
  },
  "language_info": {
   "codemirror_mode": {
    "name": "ipython",
    "version": 3
   },
   "file_extension": ".py",
   "mimetype": "text/x-python",
   "name": "python",
   "nbconvert_exporter": "python",
   "pygments_lexer": "ipython3",
   "version": "3.9.16"
  }
 },
 "nbformat": 4,
 "nbformat_minor": 5
}
